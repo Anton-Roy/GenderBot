{
 "cells": [
  {
   "cell_type": "code",
   "execution_count": 1,
   "metadata": {
    "collapsed": true
   },
   "outputs": [],
   "source": [
    "import vk_api\n",
    "import time\n",
    "from functools import reduce\n",
    "from operator import add\n",
    "import pandas as pd\n",
    "import numpy\n",
    "import pandas as pd\n",
    "import matplotlib as plt\n",
    "import numpy"
   ]
  },
  {
   "cell_type": "code",
   "execution_count": 2,
   "metadata": {
    "collapsed": true
   },
   "outputs": [],
   "source": [
    "m = 0 #счетчик\n",
    "MessageHistory = []\n",
    "MenAndWomenMessage = []\n",
    "Sex = []"
   ]
  },
  {
   "cell_type": "code",
   "execution_count": 3,
   "metadata": {
    "collapsed": true
   },
   "outputs": [],
   "source": [
    "def captcha_handler(captcha):\n",
    "    key = input(\"Enter Captcha {0}: \".format(captcha.get_url())).strip()\n",
    "    return captcha.try_again(key)"
   ]
  },
  {
   "cell_type": "code",
   "execution_count": 4,
   "metadata": {
    "collapsed": true
   },
   "outputs": [],
   "source": [
    "login, password = '89175761046', 'Pp1963Mm1964Nn1996'\n",
    "vk_session = vk_api.VkApi(login, password, captcha_handler=captcha_handler)\n",
    "try:\n",
    "    vk_session.authorization()\n",
    "except vk_api.AuthorizationError as error_msg:\n",
    "    print(error_msg)\n",
    "vk = vk_session.get_api()\n",
    "FriendIdList = vk.friends.get()"
   ]
  },
  {
   "cell_type": "code",
   "execution_count": 5,
   "metadata": {
    "collapsed": false
   },
   "outputs": [
    {
     "name": "stdout",
     "output_type": "stream",
     "text": [
      "1 2 3 4 5 6 7 8 9 10 11 12 13 14 15 16 17 18 19 20 21 22 23 24 25 26 27 28 29 30 31 32 33 34 35 36 37 38 39 40 41 42 43 44 45 46 47 48 49 50 51 52 53 54 55 56 57 58 59 60 61 62 63 64 65 66 67 68 69 70 71 72 73 74 75 76 77 78 79 80 81 82 83 84 85 86 87 88 89 90 91 92 93 94 95 96 97 98 99 100 101 102 103 104 105 106 107 108 109 110 111 112 113 114 115 116 117 118 119 120 121 122 123 124 125 126 127 128 129 130 131 132 133 134 135 136 137 138 139 140 141 142 143 144 145 146 147 148 149 150 151 152 153 154 155 156 157 158 159 160 161 162 163 164 165 166 167 168 169 170 171 172 173 174 175 176 177 178 179 180 181 182 183 184 185 186 187 188 189 190 191 192 193 194 195 196 197 198 199 200 201 202 203 204 205 206 207 208 209 210 211 212 213 214 215 216 217 218 219 220 221 222 223 224 225 226 "
     ]
    }
   ],
   "source": [
    "for _id in FriendIdList['items']:                 \n",
    "    try:\n",
    "        time.sleep(0.1); m += 1; print(m, end = ' ')\n",
    "        MessageHistory.append(vk.messages.getHistory(user_id=_id, count = 200))\n",
    "    except vk_api.vk_api.ApiError:\n",
    "        pass"
   ]
  },
  {
   "cell_type": "code",
   "execution_count": 6,
   "metadata": {
    "collapsed": true
   },
   "outputs": [],
   "source": [
    "MessageChunks = list(map(lambda msg: msg[\"items\"],MessageHistory))"
   ]
  },
  {
   "cell_type": "code",
   "execution_count": 7,
   "metadata": {
    "collapsed": true
   },
   "outputs": [],
   "source": [
    "all_messages =  list(reduce(add, MessageChunks))"
   ]
  },
  {
   "cell_type": "code",
   "execution_count": 8,
   "metadata": {
    "collapsed": true
   },
   "outputs": [],
   "source": [
    "message_uid = list(map(lambda msg: msg['user_id'],all_messages))\n",
    "unique_ids = set(message_uid)"
   ]
  },
  {
   "cell_type": "code",
   "execution_count": 9,
   "metadata": {
    "collapsed": true
   },
   "outputs": [],
   "source": [
    "uid_to_gender = {uid:vk.users.get(fields = ['sex'], user_ids = uid )[0]['sex'] for uid in unique_ids}"
   ]
  },
  {
   "cell_type": "code",
   "execution_count": 10,
   "metadata": {
    "collapsed": true
   },
   "outputs": [],
   "source": [
    "for msg in all_messages:\n",
    "    msg['user_sex'] = uid_to_gender[msg['user_id']]"
   ]
  },
  {
   "cell_type": "code",
   "execution_count": 11,
   "metadata": {
    "collapsed": true
   },
   "outputs": [],
   "source": [
    "for message in all_messages:\n",
    "    if message['from_id'] == 174050430:\n",
    "        MenAndWomenMessage.append(message['body'])\n",
    "        Sex.append(message['user_sex'] - 1)"
   ]
  },
  {
   "cell_type": "code",
   "execution_count": 12,
   "metadata": {
    "collapsed": true
   },
   "outputs": [],
   "source": [
    "df = pd.DataFrame()"
   ]
  },
  {
   "cell_type": "code",
   "execution_count": 13,
   "metadata": {
    "collapsed": true
   },
   "outputs": [],
   "source": [
    "df['Sex'] = Sex\n",
    "df['Message'] = MenAndWomenMessage"
   ]
  },
  {
   "cell_type": "code",
   "execution_count": 14,
   "metadata": {
    "collapsed": true
   },
   "outputs": [],
   "source": [
    "Message = []\n",
    "Sex = []\n",
    "cnt = 0\n",
    "cntwomen = (len(df.Sex) - numpy.count_nonzero(df.Sex))\n",
    "for i in range(len(df.Sex.values)):\n",
    "    if df.Sex[i] == 0:\n",
    "        Message.append(df.Message[i])\n",
    "        Sex.append(df.Sex[i])\n",
    "    else:\n",
    "        if cnt < cntwomen:\n",
    "            Message.append(df.Message[i])\n",
    "            Sex.append(df.Sex[i])\n",
    "            cnt += 1"
   ]
  },
  {
   "cell_type": "code",
   "execution_count": 15,
   "metadata": {
    "collapsed": true
   },
   "outputs": [],
   "source": [
    "datas = pd.DataFrame()"
   ]
  },
  {
   "cell_type": "code",
   "execution_count": 16,
   "metadata": {
    "collapsed": true
   },
   "outputs": [],
   "source": [
    "datas['Sex'] = Sex\n",
    "datas['Message'] = Message"
   ]
  },
  {
   "cell_type": "code",
   "execution_count": 17,
   "metadata": {
    "collapsed": true
   },
   "outputs": [],
   "source": [
    "def extract_features(data):\n",
    "    features = []\n",
    "    dataLower = data.lower()\n",
    "    Rualph = 'абвгдеёжзийклмнопрстуфхцчшщъыьэюяabcdefghijklmnopqrstuvwxyz'\n",
    "    for j in range(len(Rualph)):\n",
    "        for i in range(len(Rualph)):\n",
    "            features.append(dataLower.count(Rualph[j] + Rualph[i] + Rualph[k]))\n",
    "    return features"
   ]
  },
  {
   "cell_type": "code",
   "execution_count": 18,
   "metadata": {
    "collapsed": true
   },
   "outputs": [],
   "source": [
    "X = []\n",
    "Y = []\n",
    "for data, sex in zip(datas.Message, datas.Sex):\n",
    "    try:\n",
    "        X.append(extract_features(data))\n",
    "    except Exception as error:\n",
    "        continue\n",
    "    Y.append(sex)\n",
    "X = numpy.array(X)\n",
    "Y = numpy.array(Y)"
   ]
  },
  {
   "cell_type": "code",
   "execution_count": 19,
   "metadata": {
    "collapsed": true
   },
   "outputs": [],
   "source": [
    "from sklearn import cross_validation\n",
    "x_train, x_test, y_train, y_test = cross_validation.train_test_split(X, Y)"
   ]
  },
  {
   "cell_type": "code",
   "execution_count": 20,
   "metadata": {
    "collapsed": true
   },
   "outputs": [],
   "source": [
    "from sklearn.ensemble import RandomForestClassifier\n",
    "model = RandomForestClassifier(n_estimators=1000,  n_jobs=-1, verbose=1)"
   ]
  },
  {
   "cell_type": "code",
   "execution_count": 29,
   "metadata": {
    "collapsed": false
   },
   "outputs": [],
   "source": [
    "model.fit(x_train, y_train)"
   ]
  },
  {
   "cell_type": "code",
   "execution_count": null,
   "metadata": {
    "collapsed": true
   },
   "outputs": [],
   "source": [
    "from sklearn.metrics import accuracy_score\n",
    "score = accuracy_score(y_test, model.predict(x_test))\n",
    "print(round(score, 2))"
   ]
  },
  {
   "cell_type": "code",
   "execution_count": null,
   "metadata": {
    "collapsed": true
   },
   "outputs": [],
   "source": [
    "if numpy.count_nonzero(y_test) > (len(y_test) - numpy.count_nonzero(result)):\n",
    "    print('Men')\n",
    "else:\n",
    "    print('Women')"
   ]
  }
 ],
 "metadata": {
  "kernelspec": {
   "display_name": "Python 3",
   "language": "python",
   "name": "python3"
  },
  "language_info": {
   "codemirror_mode": {
    "name": "ipython",
    "version": 3
   },
   "file_extension": ".py",
   "mimetype": "text/x-python",
   "name": "python",
   "nbconvert_exporter": "python",
   "pygments_lexer": "ipython3",
   "version": "3.5.1"
  }
 },
 "nbformat": 4,
 "nbformat_minor": 0
}
